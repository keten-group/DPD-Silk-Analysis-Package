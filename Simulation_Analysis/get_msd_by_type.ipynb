{
 "cells": [
  {
   "cell_type": "code",
   "execution_count": 2,
   "id": "12c73c71",
   "metadata": {},
   "outputs": [],
   "source": [
    "# Calculate Einstein Mean Squared Displacement using MDAnalysis for crystal forming (type 1) and amorphous (type 2) coarse grain silk particles.\n",
    "# by Jacob Graham\n",
    "# Sinan Keten's Computational Nanodynamics Laboratory"
   ]
  },
  {
   "cell_type": "code",
   "execution_count": 3,
   "id": "f16cf138",
   "metadata": {},
   "outputs": [],
   "source": [
    "import MDAnalysis as mda\n",
    "import os\n",
    "import numpy as np\n",
    "import matplotlib.pyplot as plt\n",
    "import pickle as pkl"
   ]
  },
  {
   "cell_type": "code",
   "execution_count": 4,
   "id": "688bde82",
   "metadata": {},
   "outputs": [],
   "source": [
    "import MDAnalysis.analysis.msd as msd"
   ]
  },
  {
   "cell_type": "code",
   "execution_count": 5,
   "id": "cfffddc3",
   "metadata": {},
   "outputs": [
    {
     "name": "stdout",
     "output_type": "stream",
     "text": [
      "/projects/p31412/DPD_Silk_Order_Study/Correct_Domain_Ratio/DPD-Silk-Analysis-Package/Simulation_Analysis\n"
     ]
    }
   ],
   "source": [
    "# Set location of all simulations to be analyzed.\n",
    "sim_location = f'{os.getcwd()}'\n",
    "print(sim_location)"
   ]
  },
  {
   "cell_type": "markdown",
   "id": "3553ea0b",
   "metadata": {},
   "source": [
    "# Define a Function to Compute Einstein MSD with MDAnalysis for Type 1 and Type 2 Particles Separately"
   ]
  },
  {
   "cell_type": "code",
   "execution_count": 6,
   "id": "258406cb",
   "metadata": {},
   "outputs": [],
   "source": [
    "# Function that computes Einstein MSD for type 1 and type 2 atoms for a given MDAnalysis Universe.\n",
    "# Apparently types 1,2, ... in the psf file of this Universe are not recognized by MDAnalysis.\n",
    "# Instead, the type intformation is stored as unique atom names.\n",
    "\n",
    "def get_msd_by_type(u, start, stop):\n",
    "    \"\"\"A Function to calculate Einstein Mean Squared Displacements for type 1 and type 2 particles separately.\n",
    "    Requires:\n",
    "    import MDAnalysis as mda\n",
    "    import MDAnalysis.analysis.msd as msd\n",
    "    \n",
    "    Returns:\n",
    "    msd_results_type1 - MSD data for particles of type (and name) 1 over the trajectory stored in universe, u.\n",
    "    msd_results_type2 - MSD data for particles of type (and name) 2 over the trajectory stored in universe, u.\n",
    "    \"\"\"\n",
    "    def __init__(self, u, start, stop):\n",
    "        self.u = u\n",
    "        self.start = start\n",
    "        self.stop = stop\n",
    "    \n",
    "    # Get the mean square displacement of name 1 and name 2 atoms in this Universe over a specified range of frames.\n",
    "    msd_analysis_type1 = msd.EinsteinMSD(u, select='name 1')\n",
    "    msd_analysis_type2 = msd.EinsteinMSD(u, select='name 2')\n",
    "    \n",
    "    # Run the analyses.\n",
    "    msd_analysis_type1.run(start=start,stop=stop)\n",
    "    msd_analysis_type2.run(start=start,stop=stop)\n",
    "    \n",
    "    # Access the mean square displacement data\n",
    "    msd_results_type1 = msd_analysis_type1.results.timeseries\n",
    "    msd_results_type2 = msd_analysis_type2.results.timeseries\n",
    "    \n",
    "    # Return both sets of msd data.\n",
    "    return msd_results_type1, msd_results_type2"
   ]
  },
  {
   "cell_type": "code",
   "execution_count": null,
   "id": "cf8cfbe3",
   "metadata": {},
   "outputs": [],
   "source": [
    "# Set simulation-specific variables specifying random seed used and dcd files to be analyzed.\n",
    "randseed = '11111'\n",
    "psf_protein_only = 'spider_HA1B1A1B1x2134_silkworm_A1B1x0_protein_only.psf'\n",
    "msd_dcd = f'equil_after_shear_{randseed}_unwrap.dcd'\n",
    "\n",
    "# Specify some values for unit conversion.\n",
    "dumpfreq = 1 # Specify number of timesteps between frames passed to the msd calculation.\n",
    "timestep = 0.03 # LJ units\n",
    "ns_per_tau = 0.75 # Conversion ratio for tau to ns (0.75 ns/tau)\n",
    "ns_per_frame = dumpfreq*timestep*ns_per_tau\n",
    "\n",
    "# Load 'this_sim' into an MDAnalysis Universe.\n",
    "u = mda.Universe(f'{sim_location}/{this_sim}/{psf_protein_only}', \n",
    "            [f'{sim_location}/{this_sim}/{msd_dcd}'],in_memory=True)\n",
    "\n",
    "# Get msd data by passing universe u into function get_msd_by_type.\n",
    "print(len(u.trajectory))\n",
    "nframes = len(u.trajectory)\n",
    "msd_results_type1, msd_results_type2 = get_msd_by_type(u, start=0, stop=nframes)\n",
    "\n",
    "# Append new msd data to lists.\n",
    "msd_type1.append(msd_results_type1)\n",
    "msd_type2.append(msd_results_type2)"
   ]
  },
  {
   "cell_type": "code",
   "execution_count": null,
   "id": "2086cc21",
   "metadata": {},
   "outputs": [],
   "source": [
    "# Plot the result.\n",
    "plt.figure(figsize=(16,14))\n",
    "colors = ['red','green','blue','grey', 'purple']\n",
    "# Plot the MSD stored in msd_type1 and msd_type2\n",
    "plt.plot(np.arange(nframes)*ns_per_frame, msd_type1[i]*9.321*9.321,ls=\"-\", c=colors[i], label=f'Type 1 (Crystalline)')\n",
    "plt.plot(np.arange(nframes)*ns_per_frame, msd_type2[i]*9.321*9.321,ls=\"--\", c=colors[i], label=f'Type 2 (Amorphous)')\n",
    "plt.ylabel('MSD (A$^2$)')\n",
    "plt.xlabel('Time (ns)')\n",
    "plt.legend()\n",
    "plt.show()"
   ]
  },
  {
   "cell_type": "code",
   "execution_count": null,
   "id": "b618d6cb",
   "metadata": {},
   "outputs": [],
   "source": []
  }
 ],
 "metadata": {
  "kernelspec": {
   "display_name": "mdanalysis",
   "language": "python",
   "name": "env_mdana"
  },
  "language_info": {
   "codemirror_mode": {
    "name": "ipython",
    "version": 3
   },
   "file_extension": ".py",
   "mimetype": "text/x-python",
   "name": "python",
   "nbconvert_exporter": "python",
   "pygments_lexer": "ipython3",
   "version": "3.8.10"
  }
 },
 "nbformat": 4,
 "nbformat_minor": 5
}
