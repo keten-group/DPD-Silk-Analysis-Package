{
 "cells": [
  {
   "cell_type": "markdown",
   "id": "07769929",
   "metadata": {},
   "source": [
    "Jacob Graham\n",
    "\n",
    "Hydrogen Bond Count"
   ]
  },
  {
   "cell_type": "code",
   "execution_count": 24,
   "id": "d0bc8675",
   "metadata": {},
   "outputs": [],
   "source": [
    "import MDAnalysis as mda\n",
    "from MDAnalysis.analysis.distances import distance_array\n",
    "import os\n",
    "import pickle as pkl\n",
    "import numpy as np"
   ]
  },
  {
   "cell_type": "code",
   "execution_count": 25,
   "id": "1c4f5542",
   "metadata": {},
   "outputs": [],
   "source": [
    "out_path = 'Count_HBonds_out'\n",
    "if os.path.exists(out_path)==0:\n",
    "    os.mkdir(out_path)"
   ]
  },
  {
   "cell_type": "code",
   "execution_count": 28,
   "id": "225fc7a6",
   "metadata": {},
   "outputs": [
    {
     "name": "stdout",
     "output_type": "stream",
     "text": [
      "Total Hydrogen Bonds = 98236\n",
      "Total Inter Chain Hydrogen Bonds = 91168\n",
      "Ratio of Inter Chain/Total Hydrogen Bonds = 0.9280508164013193\n"
     ]
    }
   ],
   "source": [
    "cutoff_distance = 1.0\n",
    "rand_seed = 11111\n",
    "dcd_list = [f'stretch_{rand_seed}.dcd']\n",
    "psf_file = \"spider_HA1B1A1B1x2134_silkworm_A1B1x0_protein_only_for_visualization.psf\"\n",
    "# Avoid rerunning analysis if data has already been saved in pickled format.\n",
    "if os.path.exists(f'{out_path}/type1_contacts_exclude_bonded_atoms.pkl') == True:\n",
    "    total_type1_contacts, inter_chain_type1_contacts, ratio_total_inter_chain_contacts = pkl.load(open(f\"{out_path}/type1_contacts_exclude_bonded_atoms.pkl\", \"rb\"))\n",
    "else:\n",
    "    # Load dcds into mda universe.\n",
    "    u = mda.Universe(psf_file, dcd_list)\n",
    "    # Make an atom group containing only the type 1 crystalline atoms.\n",
    "    u_all_crystal = u.select_atoms('name 1')\n",
    "    # Calculate all distances between atoms in group u_all_crystal\n",
    "    box = u.dimensions\n",
    "    distances = distance_array(u_all_crystal, u_all_crystal, box=box)\n",
    "    # Get the indices for all distances that are between 0 and the cutoff distance. This will automatically exclude self distance values which are automatically 0.0.\n",
    "    indices = np.argwhere((distances > 0) & (distances <= cutoff_distance))\n",
    "    # Exclude duplicate index pairs, which were computed by distance_array function.\n",
    "    lst = set([tuple(sorted(i)) for i in indices])\n",
    "    lst = list(map(list, lst))\n",
    "    # Calculate total contacts, inter chain contacts, and ratio of the two values.\n",
    "    total_type1_contacts = 0\n",
    "    inter_chain_type1_contacts = 0\n",
    "    for i, j in lst:\n",
    "        if abs(u_all_crystal[i].index - u_all_crystal[j].index) > 1:\n",
    "            total_type1_contacts +=1\n",
    "            if u_all_crystal[i].resid != u_all_crystal[j].resid:\n",
    "                inter_chain_type1_contacts+=1\n",
    "    # Calculate ratio of interchain to total type 1 contacts.\n",
    "    ratio_total_inter_chain_contacts = inter_chain_type1_contacts/total_type1_contacts\n",
    "    # Pickle data.\n",
    "    saveObject = (total_type1_contacts, inter_chain_type1_contacts, ratio_total_inter_chain_contacts)\n",
    "    pkl.dump(saveObject, open(f\"{out_path}/type1_contacts_exclude_bonded_atoms.pkl\", 'wb'))\n",
    "print(f'Total Hydrogen Bonds = {total_type1_contacts}')\n",
    "print(f'Total Inter Chain Hydrogen Bonds = {inter_chain_type1_contacts}')\n",
    "print(f'Ratio of Inter Chain/Total Hydrogen Bonds = {ratio_total_inter_chain_contacts}')"
   ]
  },
  {
   "cell_type": "code",
   "execution_count": null,
   "id": "9f1dbbda",
   "metadata": {},
   "outputs": [],
   "source": []
  }
 ],
 "metadata": {
  "kernelspec": {
   "display_name": "mdanalysis_openpyxl",
   "language": "python",
   "name": "mdanalysis_openpyxl"
  },
  "language_info": {
   "codemirror_mode": {
    "name": "ipython",
    "version": 3
   },
   "file_extension": ".py",
   "mimetype": "text/x-python",
   "name": "python",
   "nbconvert_exporter": "python",
   "pygments_lexer": "ipython3",
   "version": "3.12.2"
  }
 },
 "nbformat": 4,
 "nbformat_minor": 5
}
