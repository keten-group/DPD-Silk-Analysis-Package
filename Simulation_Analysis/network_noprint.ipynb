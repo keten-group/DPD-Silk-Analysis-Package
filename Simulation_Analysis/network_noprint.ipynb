{
 "cells": [
  {
   "cell_type": "code",
   "execution_count": 1,
   "metadata": {},
   "outputs": [],
   "source": [
    "import numpy as np\n",
    "from numpy import loadtxt\n",
    "import time\n",
    "from collections import defaultdict"
   ]
  },
  {
   "cell_type": "code",
   "execution_count": 2,
   "metadata": {},
   "outputs": [],
   "source": [
    "prepath = \"/projects/p31714/GCR_silk/fsweep_0427/f0_r1/equil_evolve_1_test\""
   ]
  },
  {
   "cell_type": "code",
   "execution_count": 14,
   "metadata": {},
   "outputs": [],
   "source": [
    "prepath = \"/projects/p31714/GCR_silk/fsweep_HABx16/f0_r0/equil_evolve_10\""
   ]
  },
  {
   "cell_type": "code",
   "execution_count": 15,
   "metadata": {},
   "outputs": [],
   "source": [
    "with open(f\"{prepath}/coordinate.txt\", \"r\") as f:\n",
    "    info = f.readline().strip('\\n').split(' ')\n",
    "pt_data = loadtxt(f\"{prepath}/coordinates.txt\", comments=\"#\", delimiter=\" \", unpack=False)"
   ]
  },
  {
   "cell_type": "code",
   "execution_count": 16,
   "metadata": {},
   "outputs": [],
   "source": [
    "coordinates = np.vstack([pt_data[:,0]*float(info[0]), \n",
    "                         pt_data[:,1]*float(info[1]), \n",
    "                         pt_data[:,2]*float(info[2])]).T\n",
    "resid = pt_data[:,-1]\n",
    "atomid = pt_data[:,3]"
   ]
  },
  {
   "cell_type": "code",
   "execution_count": 19,
   "metadata": {},
   "outputs": [],
   "source": [
    "def periodic_distance(p1, p2, bx, by, bz):\n",
    "    dx = np.abs(p1[:, 0, None] - p2[:, 0])\n",
    "    dy = np.abs(p1[:, 1, None] - p2[:, 1])\n",
    "    dz = np.abs(p1[:, 2, None] - p2[:, 2])\n",
    "\n",
    "    dx = np.minimum(dx, bx - dx)\n",
    "    dy = np.minimum(dy, by - dy)\n",
    "    dz = np.minimum(dz, bz - dz)\n",
    "\n",
    "    return np.sqrt(dx ** 2 + dy ** 2 + dz ** 2)\n",
    "\n",
    "def find_root(roots, node):\n",
    "    while roots[node] != node:\n",
    "        node = roots[node]\n",
    "    return node\n",
    "\n",
    "def union(roots, node1, node2):\n",
    "    root1 = find_root(roots, node1)\n",
    "    root2 = find_root(roots, node2)\n",
    "    if root1 != root2:\n",
    "        roots[root2] = root1\n",
    "\n",
    "# def group_points(points, threshold, bx, by, bz):\n",
    "#     groups = defaultdict(list)\n",
    "#     roots = {i: i for i in range(len(points))}\n",
    "#     num_points = len(points)\n",
    "\n",
    "#     dist_matrix = periodic_distance(points, points, bx, by, bz)\n",
    "#     dist_matrix[np.tril_indices_from(dist_matrix, k=0)] = None\n",
    "#     close_pairs = np.where(dist_matrix <= threshold)\n",
    "\n",
    "#     # Perform unions based on the mask\n",
    "#     for i,j in zip(close_pairs[0], close_pairs[1]):\n",
    "#         union(roots, i, j)\n",
    "\n",
    "#     # Compress roots to obtain final groups\n",
    "#     for i in range(num_points):\n",
    "#         root = find_root(roots, i)\n",
    "#         groups[root].append(i)\n",
    "\n",
    "#     # Sort groups based on the first member and sort members within each group\n",
    "#     sorted_groups = sorted(groups.items(), key=lambda x: x[1][0])   \n",
    "    \n",
    "#     final_groups = []\n",
    "#     group_size = []\n",
    "#     for group_id, members in sorted_groups:\n",
    "#         group_size.append(len(members))\n",
    "#         final_groups.append((group_id, sorted(members)))\n",
    "\n",
    "#     return final_groups, group_size\n",
    "\n",
    "def group_points(points, threshold, bx, by, bz, batch_size=1000):\n",
    "    groups = defaultdict(list)\n",
    "    roots = {i: i for i in range(len(points))}\n",
    "    num_points = len(points)\n",
    "\n",
    "    # Calculate distance matrix in batches\n",
    "    for i in range(0, num_points, batch_size):\n",
    "        j_end = min(i + batch_size, num_points)\n",
    "        dist_matrix_batch = periodic_distance(points[i:j_end], points, bx, by, bz)\n",
    "        dist_matrix_batch[np.tril_indices_from(dist_matrix_batch, k=0)] = None\n",
    "        close_pairs = np.where(dist_matrix_batch <= threshold)\n",
    "\n",
    "        # Perform unions based on the mask\n",
    "        for close_i, close_j in zip(close_pairs[0], close_pairs[1]):\n",
    "            union(roots, i + close_i, close_j)\n",
    "\n",
    "    # Compress roots to obtain final groups\n",
    "    for i in range(num_points):\n",
    "        root = find_root(roots, i)\n",
    "        groups[root].append(i)\n",
    "\n",
    "    # Sort groups based on the first member and sort members within each group\n",
    "    sorted_groups = sorted(groups.items(), key=lambda x: x[1][0])   \n",
    "    \n",
    "    final_groups = []\n",
    "    group_size = []\n",
    "    for group_id, members in sorted_groups:\n",
    "        group_size.append(len(members))\n",
    "        final_groups.append((group_id, sorted(members)))\n",
    "\n",
    "    return final_groups, group_size"
   ]
  },
  {
   "cell_type": "code",
   "execution_count": null,
   "metadata": {},
   "outputs": [],
   "source": []
  },
  {
   "cell_type": "code",
   "execution_count": 20,
   "metadata": {},
   "outputs": [
    {
     "name": "stdout",
     "output_type": "stream",
     "text": [
      "Time: 907.059 ses.\n"
     ]
    }
   ],
   "source": [
    "start = time.time()\n",
    "result, cluster_size = group_points(coordinates, 0.94, float(info[0]), float(info[1]), float(info[2]))\n",
    "print(f'Time: {(time.time()-start):.3f} ses.')"
   ]
  },
  {
   "cell_type": "code",
   "execution_count": null,
   "metadata": {},
   "outputs": [],
   "source": []
  },
  {
   "cell_type": "code",
   "execution_count": 21,
   "metadata": {},
   "outputs": [],
   "source": [
    "import csv"
   ]
  },
  {
   "cell_type": "code",
   "execution_count": 22,
   "metadata": {},
   "outputs": [],
   "source": [
    "with open(f\"{prepath}/cluster_sizes2.txt\", \"w\") as f:\n",
    "    for group_id, members in result:\n",
    "        f.write(str(len(members)))\n",
    "        f.write('\\n')"
   ]
  },
  {
   "cell_type": "code",
   "execution_count": 23,
   "metadata": {},
   "outputs": [],
   "source": [
    "clusters = np.zeros([len(result), max(cluster_size)])\n",
    "clusters_resid = np.zeros([len(result), max(cluster_size)])\n",
    "\n",
    "i = 0\n",
    "for group_id, members in result:\n",
    "    clusters[i][:len(members)] = np.array(members)+1\n",
    "    clusters_resid[i][:len(members)] = resid[np.array(members)]\n",
    "    i += 1\n",
    "clusters = clusters.astype(int).tolist()\n",
    "clusters_resid = clusters_resid.astype(int).tolist()"
   ]
  },
  {
   "cell_type": "code",
   "execution_count": 24,
   "metadata": {},
   "outputs": [],
   "source": [
    "with open(f\"{prepath}/clusters2.txt\", \"w\") as f:\n",
    "    csv.writer(f, delimiter=' ').writerows(clusters)\n",
    "\n",
    "with open(f\"{prepath}/clusters_resid2.txt\", \"w\") as f:\n",
    "    csv.writer(f, delimiter=' ').writerows(clusters_resid)"
   ]
  },
  {
   "cell_type": "code",
   "execution_count": null,
   "metadata": {},
   "outputs": [],
   "source": []
  },
  {
   "cell_type": "code",
   "execution_count": null,
   "metadata": {},
   "outputs": [],
   "source": []
  },
  {
   "cell_type": "code",
   "execution_count": null,
   "metadata": {},
   "outputs": [],
   "source": []
  }
 ],
 "metadata": {
  "kernelspec": {
   "display_name": "Python (anaconda37_jax)",
   "language": "python",
   "name": "anaconda37_jax"
  },
  "language_info": {
   "codemirror_mode": {
    "name": "ipython",
    "version": 3
   },
   "file_extension": ".py",
   "mimetype": "text/x-python",
   "name": "python",
   "nbconvert_exporter": "python",
   "pygments_lexer": "ipython3",
   "version": "3.10.4"
  }
 },
 "nbformat": 4,
 "nbformat_minor": 2
}
