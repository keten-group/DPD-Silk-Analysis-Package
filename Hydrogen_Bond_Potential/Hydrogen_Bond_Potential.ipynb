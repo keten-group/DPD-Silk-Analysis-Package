{
 "cells": [
  {
   "cell_type": "markdown",
   "metadata": {},
   "source": [
    "Author: Jacob Graham\n",
    "\n",
    "Sinan Keten's Computational Nanodynamics Laboratory at Northwestern University"
   ]
  },
  {
   "cell_type": "markdown",
   "metadata": {},
   "source": [
    "This script plots the harmonic potential between beads meant to represent hydrogen bonds formed in the beta sheet forming region of silk.\n",
    "\n",
    "The analytical form is introduced in Eq. 11 and plotted in Supplementary Figure 1 of the Supplementary Information of \"Predictive modelling-based design and experiments for synthesis and spinning of bioinspired silk fibres.\" Published in Nature Communications, 2014."
   ]
  },
  {
   "cell_type": "markdown",
   "metadata": {},
   "source": [
    "## Load Required Packages"
   ]
  },
  {
   "cell_type": "code",
   "execution_count": 2,
   "metadata": {
    "executionInfo": {
     "elapsed": 1703,
     "status": "ok",
     "timestamp": 1677170936955,
     "user": {
      "displayName": "Jacob Graham",
      "userId": "12426656014667988898"
     },
     "user_tz": 360
    },
    "id": "vE-q9l02LWAk"
   },
   "outputs": [],
   "source": [
    "import numpy as np\n",
    "import pandas as pd\n",
    "import matplotlib.pyplot as plt"
   ]
  },
  {
   "cell_type": "markdown",
   "metadata": {},
   "source": [
    "## Set Initial Variables"
   ]
  },
  {
   "cell_type": "code",
   "execution_count": 3,
   "metadata": {
    "executionInfo": {
     "elapsed": 9,
     "status": "ok",
     "timestamp": 1677170936956,
     "user": {
      "displayName": "Jacob Graham",
      "userId": "12426656014667988898"
     },
     "user_tz": 360
    },
    "id": "QgLI4_SsLWAn"
   },
   "outputs": [],
   "source": [
    "N = 1001 # Number of data points to be stored in tabulated version of the potential.\n",
    "f = np.zeros(N) # Force values between two beads.\n",
    "u = np.zeros(N) # Potential energy values between two beads.\n",
    "d = np.linspace(0.000,1.000,endpoint=True,num=N) # r/Rc, where r is distance between two beads.\n",
    "d[0]=0.0000001 # Table cannot start at 0, since this value gives infinite force. See https://matsci.org/t/lammps-users-error-invalid-pair-table-cutoff/11121/3"
   ]
  },
  {
   "cell_type": "code",
   "execution_count": 4,
   "metadata": {
    "executionInfo": {
     "elapsed": 9,
     "status": "ok",
     "timestamp": 1677170936957,
     "user": {
      "displayName": "Jacob Graham",
      "userId": "12426656014667988898"
     },
     "user_tz": 360
    },
    "id": "DeD1cndpLWAo"
   },
   "outputs": [],
   "source": [
    "# Set some variables\n",
    "# Eo =3.53 #k_B*T\n",
    "Eo =3.53/2 #k_B*T\n",
    "Rc = 1.0 # Cutoff distance for interaction.\n",
    "ro = 0.756*Rc # Distance at which potential well is a minimum value.\n",
    "kHB =24*ro**2*Eo/(Rc**2-ro**2)**2 # Constant defined on page S20 of Supplementary Information"
   ]
  },
  {
   "cell_type": "markdown",
   "metadata": {},
   "source": [
    "## Calculate Force and Potential at Each Distance, d"
   ]
  },
  {
   "cell_type": "code",
   "execution_count": 5,
   "metadata": {
    "executionInfo": {
     "elapsed": 8,
     "status": "ok",
     "timestamp": 1677170936957,
     "user": {
      "displayName": "Jacob Graham",
      "userId": "12426656014667988898"
     },
     "user_tz": 360
    },
    "id": "BjDB7yZgLWAo"
   },
   "outputs": [],
   "source": [
    "i=0\n",
    "for r in np.linspace(0.000,0.756,endpoint=True,num=757):\n",
    "    f[i] = (-1)*kHB*(r-ro)\n",
    "    u[i] = 0.5*kHB*(r-ro)**2-Eo\n",
    "    i+=1\n",
    "for r in np.linspace(0.757,1.000,endpoint=True,num=244):\n",
    "    f[i] = Eo*12*r*(Rc**2-r**2)*(ro**2-r**2)/(Rc**2-ro**2)**3\n",
    "    u[i] = (-1)*Eo*(Rc**2-r**2)**2*(Rc**2+2*r**2-3*ro**2)/(Rc**2-ro**2)**3\n",
    "    i+=1"
   ]
  },
  {
   "cell_type": "markdown",
   "metadata": {},
   "source": [
    "## Plot the Result"
   ]
  },
  {
   "cell_type": "code",
   "execution_count": 9,
   "metadata": {
    "colab": {
     "base_uri": "https://localhost:8080/",
     "height": 312
    },
    "executionInfo": {
     "elapsed": 823,
     "status": "ok",
     "timestamp": 1677171362110,
     "user": {
      "displayName": "Jacob Graham",
      "userId": "12426656014667988898"
     },
     "user_tz": 360
    },
    "id": "jmCaoiEkLWAq",
    "outputId": "77efe072-02ee-4633-be43-34a4aa62828b",
    "scrolled": true
   },
   "outputs": [
    {
     "data": {
      "image/png": "[encoded data removed]",
      "text/plain": [
       "<matplotlib.figure.Figure at 0x2b82c0216cc0>"
      ]
     },
     "metadata": {},
     "output_type": "display_data"
    }
   ],
   "source": [
    "plt.plot(d,f,label = 'Hydrogen Bond Force from -dU/dr',c = 'orange',linestyle='-.')\n",
    "plt.plot(d,u,label = 'Hydrogen Bond Potential',c='orange')\n",
    "plt.axhline(y=0,c='k')\n",
    "plt.legend()\n",
    "plt.title('Nonbonded Hydrogen Bond Force')\n",
    "plt.ylim([-25,15])\n",
    "plt.xlabel('r/Rc')\n",
    "plt.ylabel('Force/Potential')\n",
    "# plt.savefig('hbond_potential.png')\n",
    "plt.show()"
   ]
  },
  {
   "cell_type": "markdown",
   "metadata": {},
   "source": [
    "## Write Tabulated Potential to File"
   ]
  },
  {
   "cell_type": "code",
   "execution_count": 15,
   "metadata": {
    "id": "FVwbr22jLWAq"
   },
   "outputs": [],
   "source": [
    "ff_file = open(\"hbond.txt\",\"w\")\n",
    "df = pd.DataFrame(d, columns = ['distance'])\n",
    "df['energy'] = u\n",
    "df['force'] = f\n",
    "df.index+=1\n",
    "ff_file.write(f'# DATE: 2023-9-22    UNITS: lj   CONTRIBUTOR: Jacob\\n\\\n",
    "# Short-ranged modified harmonic potential for type A beads\\n\\n\\\n",
    "HBOND_HARMONIC\\n\\\n",
    "N {N} \\n\\n')\n",
    "ff_file.close()\n",
    "df.to_csv('hbond.txt',sep=' ',mode='a',index=True, header=False)"
   ]
  },
  {
   "cell_type": "code",
   "execution_count": null,
   "metadata": {},
   "outputs": [],
   "source": []
  }
 ],
 "metadata": {
  "colab": {
   "provenance": []
  },
  "kernelspec": {
   "display_name": "DPD_AB",
   "language": "python",
   "name": "dpd_ab"
  },
  "language_info": {
   "codemirror_mode": {
    "name": "ipython",
    "version": 3
   },
   "file_extension": ".py",
   "mimetype": "text/x-python",
   "name": "python",
   "nbconvert_exporter": "python",
   "pygments_lexer": "ipython3",
   "version": "3.6.0"
  },
  "vscode": {
   "interpreter": {
    "hash": "31f2aee4e71d21fbe5cf8b01ff0e069b9275f58929596ceb00d14d90e3e16cd6"
   }
  }
 },
 "nbformat": 4,
 "nbformat_minor": 1
}
