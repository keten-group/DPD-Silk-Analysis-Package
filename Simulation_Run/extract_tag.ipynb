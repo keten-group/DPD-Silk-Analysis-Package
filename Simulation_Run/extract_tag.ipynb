{
 "cells": [
  {
   "cell_type": "markdown",
   "id": "34f9e87f",
   "metadata": {},
   "source": [
    "Extract atom ids to apply pull forces based on the last frame of equil dcd."
   ]
  },
  {
   "cell_type": "code",
   "execution_count": 8,
   "id": "e8f4ca2e",
   "metadata": {},
   "outputs": [],
   "source": [
    "import MDAnalysis as mda\n",
    "import numpy as np\n",
    "import csv"
   ]
  },
  {
   "cell_type": "code",
   "execution_count": 9,
   "id": "d71eec02",
   "metadata": {},
   "outputs": [],
   "source": [
    "randseed = 441227"
   ]
  },
  {
   "cell_type": "code",
   "execution_count": 12,
   "id": "62677a93",
   "metadata": {},
   "outputs": [
    {
     "name": "stdout",
     "output_type": "stream",
     "text": [
      "Done writing tag.txt.\n"
     ]
    }
   ],
   "source": [
    "u = mda.Universe(f'spider_HA1B1A1B1x1440_silkworm_A1B1x0_water_only.psf', \n",
    "                     [f'equil_{randseed}_unwrap.dcd'])\n",
    "\n",
    "segfirst = int(u.atoms[0].segid)\n",
    "seglast = int(u.atoms[-1].segid)\n",
    "currts = u.trajectory[-1]\n",
    "\n",
    "headids = np.arange(seglast)*(1+u.select_atoms(f\"segid 1\").ix[-1]) + 1\n",
    "tailids = (1+np.arange(seglast))*(1+u.select_atoms(f\"segid 1\").ix[-1])\n",
    "temp = currts.positions[headids-1] - currts.positions[tailids-1]\n",
    "\n",
    "lefttemp = np.hstack([headids[np.where(temp[:,0]<=0)], tailids[np.where(temp[:,0]>0)]])\n",
    "lefttemp.sort() \n",
    "leftids = lefttemp\n",
    "\n",
    "righttemp = np.hstack([headids[np.where(temp[:,0]>0)], tailids[np.where(temp[:,0]<=0)]])\n",
    "righttemp.sort() \n",
    "rightids = righttemp\n",
    "\n",
    "with open(f'tag.txt', 'w') as f:\n",
    "    N = len(leftids)*2\n",
    "    f.write(str(N))\n",
    "    f.write('\\n')\n",
    "    for ll in leftids:\n",
    "        f.write(f'{ll} 2') # assign 2 to left end\n",
    "        f.write('\\n')\n",
    "    for ll in rightids:\n",
    "        f.write(f'{ll} -2') # assign 2 to left end\n",
    "        f.write('\\n')\n",
    "print(f\"Done writing tag.txt.\")"
   ]
  },
  {
   "cell_type": "code",
   "execution_count": null,
   "id": "6610f296",
   "metadata": {},
   "outputs": [],
   "source": []
  }
 ],
 "metadata": {
  "kernelspec": {
   "display_name": "mdanalysis",
   "language": "python",
   "name": "env_mdana"
  },
  "language_info": {
   "codemirror_mode": {
    "name": "ipython",
    "version": 3
   },
   "file_extension": ".py",
   "mimetype": "text/x-python",
   "name": "python",
   "nbconvert_exporter": "python",
   "pygments_lexer": "ipython3",
   "version": "3.8.10"
  }
 },
 "nbformat": 4,
 "nbformat_minor": 5
}
